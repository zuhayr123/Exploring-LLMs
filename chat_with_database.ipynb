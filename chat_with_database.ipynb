{
 "cells": [
  {
   "cell_type": "code",
   "execution_count": 1,
   "metadata": {},
   "outputs": [],
   "source": [
    "from langchain_community.llms import Ollama"
   ]
  },
  {
   "cell_type": "code",
   "execution_count": 2,
   "metadata": {},
   "outputs": [],
   "source": [
    "llm = Ollama(model = \"llama3.1\")"
   ]
  },
  {
   "cell_type": "code",
   "execution_count": 3,
   "metadata": {},
   "outputs": [],
   "source": [
    "from langchain_community.utilities import SQLDatabase\n",
    "from langchain.chains import create_sql_query_chain"
   ]
  },
  {
   "cell_type": "code",
   "execution_count": 4,
   "metadata": {},
   "outputs": [],
   "source": [
    "db = SQLDatabase.from_uri(\"postgresql://user-name:@localhost:5432/postgres\")"
   ]
  },
  {
   "cell_type": "code",
   "execution_count": 5,
   "metadata": {},
   "outputs": [
    {
     "data": {
      "text/plain": [
       "['departments_table', 'employees_table']"
      ]
     },
     "execution_count": 5,
     "metadata": {},
     "output_type": "execute_result"
    }
   ],
   "source": [
    "db.get_usable_table_names()"
   ]
  },
  {
   "cell_type": "code",
   "execution_count": 20,
   "metadata": {},
   "outputs": [],
   "source": [
    "chain = create_sql_query_chain(llm = llm, db = db)\n",
    "database_description = (\n",
    "    \"The database consists of two tables: `public.employees_table` and `public.departments_table`. This is a PostgreSQL database, so you need to use postgres-related queries.\\n\\n\"\n",
    "    \"The `public.employees_table` table records details about the employees in a company. It includes the following columns:\\n\"\n",
    "    \"- `EmployeeID`: A unique identifier for each employee.\\n\"\n",
    "    \"- `FirstName`: The first name of the employee.\\n\"\n",
    "    \"- `LastName`: The last name of the employee.\\n\"\n",
    "    \"- `DepartmentID`: A foreign key that links the employee to a department in the `public.departments_table` table.\\n\"\n",
    "    \"- `Salary`: The salary of the employee.\\n\\n\"\n",
    "    \"The `public.departments_table` table contains information about the various departments in the company. It includes:\\n\"\n",
    "    \"- `DepartmentID`: A unique identifier for each department.\\n\"\n",
    "    \"- `DepartmentName`: The name of the department.\\n\"\n",
    "    \"- `Location`: The location of the department.\\n\\n\"\n",
    "    \"The `DepartmentID` column in the `public.employees_table` table establishes a relationship between the employees and their respective departments in the `public.departments_table` table. This foreign key relationship allows us to join these tables to retrieve detailed information about employees and their departments.\"\n",
    ")\n",
    "\n",
    "response = chain.invoke({\"question\": database_description + \" How many employees have salary above 70k?\"})"
   ]
  },
  {
   "cell_type": "code",
   "execution_count": 21,
   "metadata": {},
   "outputs": [
    {
     "data": {
      "text/plain": [
       "'Question: The database consists of two tables: `public.employees_table` and `public.departments_table`. This is a PostgreSQL database, so you need to use postgres-related queries.\\n\\nThe `public.employees_table` table records details about the employees in a company. It includes the following columns:\\n- `EmployeeID`: A unique identifier for each employee.\\n- `FirstName`: The first name of the employee.\\n- `LastName`: The last name of the employee.\\n- `DepartmentID`: A foreign key that links the employee to a department in the `public.departments_table` table.\\n- `Salary`: The salary of the employee.\\n\\nThe `public.departments_table` table contains information about the various departments in the company. It includes:\\n- `DepartmentID`: A unique identifier for each department.\\n- `DepartmentName`: The name of the department.\\n- `Location`: The location of the department.\\n\\nThe `DepartmentID` column in the `public.employees_table` table establishes a relationship between the employees and their respective departments in the `public.departments_table` table. This foreign key relationship allows us to join these tables to retrieve detailed information about employees and their departments. How many employees have salary above 70k?\\n\\nSQLQuery: \\nSELECT COUNT(*) FROM public.employees_table WHERE \"Salary\" > 70000 LIMIT 5'"
      ]
     },
     "execution_count": 21,
     "metadata": {},
     "output_type": "execute_result"
    }
   ],
   "source": [
    "response"
   ]
  },
  {
   "cell_type": "code",
   "execution_count": 15,
   "metadata": {},
   "outputs": [],
   "source": [
    "import re\n",
    "def extract_sql_query(response):\n",
    "    # Define the regular expression pattern to match the SQL query\n",
    "    pattern = re.compile(r'SQLQuery:\\s*(.*)')\n",
    "    \n",
    "    # Search for the pattern in the response\n",
    "    match = pattern.search(response)\n",
    "    \n",
    "    if match:\n",
    "        # Extract and return the matched SQL query\n",
    "        return match.group(1).strip()\n",
    "    else:\n",
    "        return None\n",
    "\n",
    "sql_query = extract_sql_query(response)"
   ]
  },
  {
   "cell_type": "code",
   "execution_count": 16,
   "metadata": {},
   "outputs": [
    {
     "data": {
      "text/plain": [
       "'SELECT COUNT(*) FROM public.employees_table WHERE \"Salary\" > 70000 LIMIT 5'"
      ]
     },
     "execution_count": 16,
     "metadata": {},
     "output_type": "execute_result"
    }
   ],
   "source": [
    "sql_query"
   ]
  },
  {
   "cell_type": "code",
   "execution_count": 17,
   "metadata": {},
   "outputs": [
    {
     "name": "stdout",
     "output_type": "stream",
     "text": [
      "[(1,)]\n"
     ]
    }
   ],
   "source": [
    "result = db.run(sql_query)\n",
    "print(result)"
   ]
  }
 ],
 "metadata": {
  "kernelspec": {
   "display_name": "llm",
   "language": "python",
   "name": "python3"
  },
  "language_info": {
   "codemirror_mode": {
    "name": "ipython",
    "version": 3
   },
   "file_extension": ".py",
   "mimetype": "text/x-python",
   "name": "python",
   "nbconvert_exporter": "python",
   "pygments_lexer": "ipython3",
   "version": "3.8.19"
  }
 },
 "nbformat": 4,
 "nbformat_minor": 2
}
