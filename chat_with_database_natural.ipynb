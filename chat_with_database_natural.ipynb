{
 "cells": [
  {
   "cell_type": "code",
   "execution_count": 10,
   "metadata": {},
   "outputs": [],
   "source": [
    "from langchain_community.llms import Ollama"
   ]
  },
  {
   "cell_type": "code",
   "execution_count": 11,
   "metadata": {},
   "outputs": [],
   "source": [
    "llm = Ollama(model = \"llama3.1\")"
   ]
  },
  {
   "cell_type": "code",
   "execution_count": 12,
   "metadata": {},
   "outputs": [],
   "source": [
    "from langchain_community.utilities import SQLDatabase\n",
    "from langchain.chains import create_sql_query_chain\n",
    "from langchain_core.prompts import PromptTemplate"
   ]
  },
  {
   "cell_type": "code",
   "execution_count": 13,
   "metadata": {},
   "outputs": [],
   "source": [
    "db = SQLDatabase.from_uri(\"postgresql://abouzuhayr:@localhost:5432/postgres\")"
   ]
  },
  {
   "cell_type": "code",
   "execution_count": 14,
   "metadata": {},
   "outputs": [],
   "source": [
    "write_query = create_sql_query_chain(llm=llm, db=db)"
   ]
  },
  {
   "cell_type": "code",
   "execution_count": 15,
   "metadata": {},
   "outputs": [],
   "source": [
    "answer_prompt = PromptTemplate.from_template(\n",
    "    \"\"\"Given the following user question, corresponding SQL query, and SQL result, answer the user question.\n",
    "\n",
    "Question: {question}\n",
    "SQL Query: {query}\n",
    "SQL Result: {result}\n",
    "Answer: \"\"\"\n",
    ")"
   ]
  },
  {
   "cell_type": "code",
   "execution_count": 16,
   "metadata": {},
   "outputs": [],
   "source": [
    "from langchain_core.runnables import RunnablePassthrough\n",
    "from langchain.schema.runnable import RunnableLambda"
   ]
  },
  {
   "cell_type": "code",
   "execution_count": 17,
   "metadata": {},
   "outputs": [],
   "source": [
    "import re\n",
    "# Define your function to extract and execute the SQL query\n",
    "def extract_and_execute_sql(inputs):\n",
    "    # Extract the response text and question\n",
    "    response = inputs.get('response', '')\n",
    "    question = inputs.get('question', '')\n",
    "\n",
    "    # Define the regular expression pattern to match the SQL query\n",
    "    pattern = re.compile(r'SQLQuery:\\s*(.*)')\n",
    "\n",
    "    # Search for the pattern in the response\n",
    "    match = pattern.search(response)\n",
    "\n",
    "    if match:\n",
    "        # Extract the matched SQL query\n",
    "        sql_query = match.group(1).strip()\n",
    "\n",
    "        # Execute the query using your custom logic\n",
    "        result = db.run(sql_query)\n",
    "\n",
    "        # Return the necessary information for the next steps in the chain\n",
    "        return {\n",
    "            \"question\": question,\n",
    "            \"query\": sql_query,\n",
    "            \"result\": result\n",
    "        }\n",
    "    else:\n",
    "        return {\n",
    "            \"question\": question,\n",
    "            \"query\": None,\n",
    "            \"result\": \"No SQL query found in the response.\"\n",
    "        }\n",
    "\n",
    "# Wrap your function with RunnableLambda\n",
    "extract_and_execute = RunnableLambda(extract_and_execute_sql)"
   ]
  },
  {
   "cell_type": "code",
   "execution_count": 18,
   "metadata": {},
   "outputs": [
    {
     "name": "stdout",
     "output_type": "stream",
     "text": [
      "There are 5 employees.\n"
     ]
    }
   ],
   "source": [
    "from langchain_core.output_parsers import StrOutputParser\n",
    "# Create a Runnable that wraps write_query and passes along the question\n",
    "def write_query_with_question(inputs):\n",
    "    response = write_query.invoke(inputs)\n",
    "    return {'response': response, 'question': inputs['question']}\n",
    "\n",
    "write_query_runnable = RunnableLambda(write_query_with_question)\n",
    "\n",
    "# Create the chain\n",
    "chain = (\n",
    "    write_query_runnable\n",
    "    | extract_and_execute\n",
    "    | answer_prompt\n",
    "    | llm\n",
    "    | StrOutputParser()\n",
    ")\n",
    "\n",
    "# Invoke the chain with your question\n",
    "response = chain.invoke({\"question\": \"How many employees are there in total?\"})\n",
    "\n",
    "# Print the final answer\n",
    "print(response)"
   ]
  }
 ],
 "metadata": {
  "kernelspec": {
   "display_name": "llm",
   "language": "python",
   "name": "python3"
  },
  "language_info": {
   "codemirror_mode": {
    "name": "ipython",
    "version": 3
   },
   "file_extension": ".py",
   "mimetype": "text/x-python",
   "name": "python",
   "nbconvert_exporter": "python",
   "pygments_lexer": "ipython3",
   "version": "3.9.19"
  }
 },
 "nbformat": 4,
 "nbformat_minor": 2
}
