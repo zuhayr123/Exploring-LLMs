{
 "cells": [
  {
   "cell_type": "code",
   "execution_count": 1,
   "metadata": {},
   "outputs": [
    {
     "name": "stderr",
     "output_type": "stream",
     "text": [
      "/opt/miniconda3/envs/llm/lib/python3.9/site-packages/pydantic/_internal/_fields.py:132: UserWarning: Field \"model_name\" in HuggingFaceInferenceAPIEmbeddings has conflict with protected namespace \"model_\".\n",
      "\n",
      "You may be able to resolve this warning by setting `model_config['protected_namespaces'] = ()`.\n",
      "  warnings.warn(\n",
      "/Users/abouzuhayr/Desktop/Learn/Understanding-LLMs/chat_llm_module_memory_chart_RAG.py:129: LangChainDeprecationWarning: The class `LLMChain` was deprecated in LangChain 0.1.17 and will be removed in 1.0. Use :meth:`~RunnableSequence, e.g., `prompt | llm`` instead.\n",
      "  self.classification_chain = LLMChain(\n",
      "/Users/abouzuhayr/Desktop/Learn/Understanding-LLMs/chat_llm_module_memory_chart_RAG.py:156: LangChainDeprecationWarning: The class `HuggingFaceEmbeddings` was deprecated in LangChain 0.2.2 and will be removed in 1.0. An updated version of the class exists in the :class:`~langchain-huggingface package and should be used instead. To use it run `pip install -U :class:`~langchain-huggingface` and import as `from :class:`~langchain_huggingface import HuggingFaceEmbeddings``.\n",
      "  embeddings = HuggingFaceEmbeddings()\n",
      "/Users/abouzuhayr/Desktop/Learn/Understanding-LLMs/chat_llm_module_memory_chart_RAG.py:156: LangChainDeprecationWarning: Default values for HuggingFaceEmbeddings.model_name were deprecated in LangChain 0.2.16 and will be removed in 0.4.0. Explicitly pass a model_name to the HuggingFaceEmbeddings constructor instead.\n",
      "  embeddings = HuggingFaceEmbeddings()\n",
      "/opt/miniconda3/envs/llm/lib/python3.9/site-packages/sentence_transformers/cross_encoder/CrossEncoder.py:13: TqdmWarning: IProgress not found. Please update jupyter and ipywidgets. See https://ipywidgets.readthedocs.io/en/stable/user_install.html\n",
      "  from tqdm.autonotebook import tqdm, trange\n",
      "/opt/miniconda3/envs/llm/lib/python3.9/site-packages/transformers/tokenization_utils_base.py:1617: FutureWarning: `clean_up_tokenization_spaces` was not set. It will be set to `True` by default. This behavior will be deprecated in transformers v4.45, and will be then set to `False` by default. For more details check this issue: https://github.com/huggingface/transformers/issues/31884\n",
      "  warnings.warn(\n"
     ]
    }
   ],
   "source": [
    "from chat_llm_module_memory_chart_RAG import ChatLLM\n",
    "import matplotlib.pyplot as plt\n",
    "\n",
    "# Initialize the chat model\n",
    "chat_model = ChatLLM()"
   ]
  },
  {
   "cell_type": "code",
   "execution_count": 3,
   "metadata": {},
   "outputs": [
    {
     "name": "stdout",
     "output_type": "stream",
     "text": [
      "Assistant: Sarah Davis' hobby is yoga, specifically as a yoga enthusiast. Her long-term goals include becoming a certified instructor and opening her own wellness retreat, which suggests she also has an interest in personal growth and mindfulness.\n"
     ]
    }
   ],
   "source": [
    "# First interaction\n",
    "response1 = chat_model.get_response(\"What are the hobbies of Sarah Davis?\")\n",
    "print(\"Assistant:\", response1)"
   ]
  },
  {
   "cell_type": "code",
   "execution_count": 2,
   "metadata": {},
   "outputs": [
    {
     "name": "stderr",
     "output_type": "stream",
     "text": [
      "/Users/abouzuhayr/Desktop/Learn/Understanding-LLMs/chat_llm_module_memory_chart_RAG.py:305: LangChainDeprecationWarning: The method `Chain.__call__` was deprecated in langchain 0.1.0 and will be removed in 1.0. Use :meth:`~invoke` instead.\n",
      "  response = self.retrieval_qa_chain({\"query\": question})\n",
      "/Users/abouzuhayr/Desktop/Learn/Understanding-LLMs/chat_llm_module_memory_chart_RAG.py:314: LangChainDeprecationWarning: The method `Chain.run` was deprecated in langchain 0.1.0 and will be removed in 1.0. Use :meth:`~invoke` instead.\n",
      "  classification_result = self.classification_chain.run(classification_input).strip().lower()\n"
     ]
    },
    {
     "name": "stdout",
     "output_type": "stream",
     "text": [
      "LLM Response:\n",
      "SQLQuery:\n",
      "SELECT \"Salary\" FROM \"public\".\"employees_table\" WHERE (\"FirstName\" = 'Jane' AND \"LastName\" = 'Smith');\n",
      "Extracted SQL Query:\n",
      "SELECT \"Salary\" FROM \"public\".\"employees_table\" WHERE (\"FirstName\" = 'Jane' AND \"LastName\" = 'Smith');\n",
      "[{'Salary': Decimal('65000')}]\n",
      "Assistant: The user question is \"What is the salary of Jane Smith?\"\n",
      "\n",
      "To find this information, we need to execute the SQL query `SELECT \"Salary\" FROM \"public\".\"employees_table\" WHERE (\"FirstName\" = 'Jane' AND \"LastName\" = 'Smith');`. This query retrieves the salary from the `public.employees_table` table where the first name is 'Jane' and the last name is 'Smith'.\n",
      "\n",
      "The corresponding SQL result is `{'Salary': Decimal('65000')}`. Therefore, the answer to the user question is:\n",
      "\n",
      "The salary of Jane Smith is $65,000.\n"
     ]
    }
   ],
   "source": [
    "# Second interaction, relying on the context from the first\n",
    "response2 = chat_model.get_response(\"What is the salary of Jane Smith?\")\n",
    "print(\"Assistant:\", response2)"
   ]
  }
 ],
 "metadata": {
  "kernelspec": {
   "display_name": "llm",
   "language": "python",
   "name": "python3"
  },
  "language_info": {
   "codemirror_mode": {
    "name": "ipython",
    "version": 3
   },
   "file_extension": ".py",
   "mimetype": "text/x-python",
   "name": "python",
   "nbconvert_exporter": "python",
   "pygments_lexer": "ipython3",
   "version": "3.9.19"
  }
 },
 "nbformat": 4,
 "nbformat_minor": 2
}
