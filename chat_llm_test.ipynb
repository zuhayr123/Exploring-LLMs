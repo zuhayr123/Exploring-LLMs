{
 "cells": [
  {
   "cell_type": "code",
   "execution_count": 1,
   "metadata": {},
   "outputs": [
    {
     "name": "stderr",
     "output_type": "stream",
     "text": [
      "/Users/abouzuhayr/Desktop/Learn/Understanding-LLMs/chat_llm_module_memory.py:78: LangChainDeprecationWarning: The class `LLMChain` was deprecated in LangChain 0.1.17 and will be removed in 1.0. Use :meth:`~RunnableSequence, e.g., `prompt | llm`` instead.\n",
      "  self.write_query = LLMChain(\n"
     ]
    }
   ],
   "source": [
    "from chat_llm_module_memory import ChatLLM\n",
    "\n",
    "# Initialize the chat model\n",
    "chat_model = ChatLLM()"
   ]
  },
  {
   "cell_type": "code",
   "execution_count": 3,
   "metadata": {},
   "outputs": [
    {
     "name": "stdout",
     "output_type": "stream",
     "text": [
      "LLM Response:\n",
      "SQLQuery:\n",
      "SELECT \"FirstName\", \"LastName\", \"Salary\"\n",
      "FROM \"public\".employees_table\n",
      "WHERE \"Salary\" = (SELECT MAX(\"Salary\") FROM \"public\".employees_table);\n",
      "Extracted SQL Query:\n",
      "SELECT \"FirstName\", \"LastName\", \"Salary\"\n",
      "FROM \"public\".employees_table\n",
      "WHERE \"Salary\" = (SELECT MAX(\"Salary\") FROM \"public\".employees_table);\n",
      "Assistant: The highest-paid employee is Sarah Davis.\n"
     ]
    }
   ],
   "source": [
    "# First interaction\n",
    "response1 = chat_model.get_response(\"Who is the highest-paid employee?\")\n",
    "print(\"Assistant:\", response1)"
   ]
  },
  {
   "cell_type": "code",
   "execution_count": 4,
   "metadata": {},
   "outputs": [
    {
     "name": "stdout",
     "output_type": "stream",
     "text": [
      "LLM Response:\n",
      "SQLQuery:\n",
      "SELECT \n",
      "  d.\"DepartmentName\"\n",
      "FROM \n",
      "  public.employees_table e\n",
      "JOIN \n",
      "  public.departments_table d ON e.\"DepartmentID\" = d.\"DepartmentID\"\n",
      "WHERE \n",
      "  e.\"Salary\" = ( SELECT MAX(\"Salary\") FROM public.employees_table );\n",
      "Extracted SQL Query:\n",
      "SELECT \n",
      "  d.\"DepartmentName\"\n",
      "FROM \n",
      "  public.employees_table e\n",
      "JOIN \n",
      "  public.departments_table d ON e.\"DepartmentID\" = d.\"DepartmentID\"\n",
      "WHERE \n",
      "  e.\"Salary\" = ( SELECT MAX(\"Salary\") FROM public.employees_table );\n",
      "Assistant: The highest-paid employee, Sarah Davis, works in the IT department.\n"
     ]
    }
   ],
   "source": [
    "# Second interaction, relying on the context from the first\n",
    "response2 = chat_model.get_response(\"What department does that employee work in?\")\n",
    "print(\"Assistant:\", response2)"
   ]
  }
 ],
 "metadata": {
  "kernelspec": {
   "display_name": "llm",
   "language": "python",
   "name": "python3"
  },
  "language_info": {
   "codemirror_mode": {
    "name": "ipython",
    "version": 3
   },
   "file_extension": ".py",
   "mimetype": "text/x-python",
   "name": "python",
   "nbconvert_exporter": "python",
   "pygments_lexer": "ipython3",
   "version": "3.9.19"
  }
 },
 "nbformat": 4,
 "nbformat_minor": 2
}
